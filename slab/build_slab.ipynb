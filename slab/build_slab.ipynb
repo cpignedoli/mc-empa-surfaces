{
 "cells": [
  {
   "cell_type": "markdown",
   "metadata": {},
   "source": [
    "# Place a molecule onto a Surface"
   ]
  },
  {
   "cell_type": "code",
   "execution_count": null,
   "metadata": {},
   "outputs": [],
   "source": [
    "%aiida\n",
    "# General imports\n",
    "from IPython.display import display\n",
    "\n",
    "from apps.surfaces.widgets.build_slab import BuildSlab\n",
    "from traitlets import dlink\n",
    "# Custom imports\n",
    "from apps.surfaces.widgets import slabs\n",
    "\n",
    "from apps.surfaces.widgets.empa_viewer import EmpaStructureViewer\n",
    "from aiidalab_widgets_base import  StructureManagerWidget, BasicStructureEditor\n",
    "from aiidalab_widgets_base import StructureBrowserWidget, StructureUploadWidget, SmilesWidget\n",
    "from apps.surfaces.widgets.import_cdxml import CdxmlUpload2GnrWidget"
   ]
  },
  {
   "cell_type": "code",
   "execution_count": null,
   "metadata": {},
   "outputs": [],
   "source": [
    "%%javascript\n",
    "IPython.OutputArea.prototype._should_scroll = function(lines) {\n",
    "    return false;\n",
    "}"
   ]
  },
  {
   "cell_type": "code",
   "execution_count": null,
   "metadata": {
    "scrolled": true
   },
   "outputs": [],
   "source": [
    "# Structure selector.\n",
    "empa_viewer = EmpaStructureViewer()\n",
    "build_slab = BuildSlab(title=\"Build slab\")\n",
    "dlink((empa_viewer, 'details'), (build_slab, 'details'))\n",
    "dlink((empa_viewer, 'structure'), (build_slab, 'molecule'))\n",
    "\n",
    "structure_selector = StructureManagerWidget(\n",
    "    viewer=empa_viewer,\n",
    "    importers=[\n",
    "        StructureBrowserWidget(title=\"AiiDA database\"),\n",
    "        StructureUploadWidget(title=\"Import from computer\"),\n",
    "        SmilesWidget(title=\"From SMILES\"),\n",
    "        CdxmlUpload2GnrWidget(title=\"CDXML\"),\n",
    "    ],\n",
    "    editors = [\n",
    "        BasicStructureEditor(title=\"Edit structure\"),\n",
    "        build_slab\n",
    "    ],\n",
    "    storable=False,\n",
    "    node_class='StructureData')\n",
    "\n",
    "display(structure_selector)"
   ]
  }
 ],
 "metadata": {
  "kernelspec": {
   "display_name": "Python 3",
   "language": "python",
   "name": "python3"
  },
  "language_info": {
   "codemirror_mode": {
    "name": "ipython",
    "version": 3
   },
   "file_extension": ".py",
   "mimetype": "text/x-python",
   "name": "python",
   "nbconvert_exporter": "python",
   "pygments_lexer": "ipython3",
   "version": "3.7.4"
  }
 },
 "nbformat": 4,
 "nbformat_minor": 2
}
